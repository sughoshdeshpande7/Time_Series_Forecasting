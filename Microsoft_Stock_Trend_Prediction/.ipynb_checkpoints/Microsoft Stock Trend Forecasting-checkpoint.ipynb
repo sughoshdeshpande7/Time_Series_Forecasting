{
 "cells": [
  {
   "cell_type": "code",
   "execution_count": 1,
   "id": "1e6dc0eb",
   "metadata": {},
   "outputs": [],
   "source": [
    "import pandas as pd \n",
    "import numpy as np \n",
    "import matplotlib.pyplot as plt"
   ]
  },
  {
   "cell_type": "code",
   "execution_count": 2,
   "id": "d8e067f4",
   "metadata": {},
   "outputs": [
    {
     "data": {
      "text/html": [
       "<div>\n",
       "<style scoped>\n",
       "    .dataframe tbody tr th:only-of-type {\n",
       "        vertical-align: middle;\n",
       "    }\n",
       "\n",
       "    .dataframe tbody tr th {\n",
       "        vertical-align: top;\n",
       "    }\n",
       "\n",
       "    .dataframe thead th {\n",
       "        text-align: right;\n",
       "    }\n",
       "</style>\n",
       "<table border=\"1\" class=\"dataframe\">\n",
       "  <thead>\n",
       "    <tr style=\"text-align: right;\">\n",
       "      <th></th>\n",
       "      <th>Date</th>\n",
       "      <th>Open</th>\n",
       "      <th>High</th>\n",
       "      <th>Low</th>\n",
       "      <th>Close</th>\n",
       "      <th>Adj Close</th>\n",
       "      <th>Volume</th>\n",
       "    </tr>\n",
       "  </thead>\n",
       "  <tbody>\n",
       "    <tr>\n",
       "      <th>0</th>\n",
       "      <td>2013-07-19</td>\n",
       "      <td>32.400002</td>\n",
       "      <td>32.669998</td>\n",
       "      <td>31.020000</td>\n",
       "      <td>31.400000</td>\n",
       "      <td>26.166113</td>\n",
       "      <td>248428500</td>\n",
       "    </tr>\n",
       "    <tr>\n",
       "      <th>1</th>\n",
       "      <td>2013-07-22</td>\n",
       "      <td>31.700001</td>\n",
       "      <td>32.009998</td>\n",
       "      <td>31.600000</td>\n",
       "      <td>32.009998</td>\n",
       "      <td>26.674431</td>\n",
       "      <td>79040700</td>\n",
       "    </tr>\n",
       "    <tr>\n",
       "      <th>2</th>\n",
       "      <td>2013-07-23</td>\n",
       "      <td>31.910000</td>\n",
       "      <td>32.040001</td>\n",
       "      <td>31.709999</td>\n",
       "      <td>31.820000</td>\n",
       "      <td>26.516104</td>\n",
       "      <td>65810400</td>\n",
       "    </tr>\n",
       "    <tr>\n",
       "      <th>3</th>\n",
       "      <td>2013-07-24</td>\n",
       "      <td>32.040001</td>\n",
       "      <td>32.189999</td>\n",
       "      <td>31.889999</td>\n",
       "      <td>31.959999</td>\n",
       "      <td>26.632767</td>\n",
       "      <td>52803100</td>\n",
       "    </tr>\n",
       "    <tr>\n",
       "      <th>4</th>\n",
       "      <td>2013-07-25</td>\n",
       "      <td>31.620001</td>\n",
       "      <td>31.650000</td>\n",
       "      <td>31.250000</td>\n",
       "      <td>31.389999</td>\n",
       "      <td>26.157772</td>\n",
       "      <td>63213000</td>\n",
       "    </tr>\n",
       "    <tr>\n",
       "      <th>...</th>\n",
       "      <td>...</td>\n",
       "      <td>...</td>\n",
       "      <td>...</td>\n",
       "      <td>...</td>\n",
       "      <td>...</td>\n",
       "      <td>...</td>\n",
       "      <td>...</td>\n",
       "    </tr>\n",
       "    <tr>\n",
       "      <th>2512</th>\n",
       "      <td>2023-07-13</td>\n",
       "      <td>339.559998</td>\n",
       "      <td>343.739990</td>\n",
       "      <td>339.019989</td>\n",
       "      <td>342.660004</td>\n",
       "      <td>342.660004</td>\n",
       "      <td>20567200</td>\n",
       "    </tr>\n",
       "    <tr>\n",
       "      <th>2513</th>\n",
       "      <td>2023-07-14</td>\n",
       "      <td>347.589996</td>\n",
       "      <td>351.429993</td>\n",
       "      <td>344.309998</td>\n",
       "      <td>345.239990</td>\n",
       "      <td>345.239990</td>\n",
       "      <td>28302200</td>\n",
       "    </tr>\n",
       "    <tr>\n",
       "      <th>2514</th>\n",
       "      <td>2023-07-17</td>\n",
       "      <td>345.679993</td>\n",
       "      <td>346.989990</td>\n",
       "      <td>342.200012</td>\n",
       "      <td>345.730011</td>\n",
       "      <td>345.730011</td>\n",
       "      <td>20363900</td>\n",
       "    </tr>\n",
       "    <tr>\n",
       "      <th>2515</th>\n",
       "      <td>2023-07-18</td>\n",
       "      <td>345.829987</td>\n",
       "      <td>366.779999</td>\n",
       "      <td>342.170013</td>\n",
       "      <td>359.489990</td>\n",
       "      <td>359.489990</td>\n",
       "      <td>64872700</td>\n",
       "    </tr>\n",
       "    <tr>\n",
       "      <th>2516</th>\n",
       "      <td>2023-07-19</td>\n",
       "      <td>361.750000</td>\n",
       "      <td>362.459991</td>\n",
       "      <td>352.440002</td>\n",
       "      <td>355.079987</td>\n",
       "      <td>355.079987</td>\n",
       "      <td>39640400</td>\n",
       "    </tr>\n",
       "  </tbody>\n",
       "</table>\n",
       "<p>2517 rows × 7 columns</p>\n",
       "</div>"
      ],
      "text/plain": [
       "            Date        Open        High         Low       Close   Adj Close  \\\n",
       "0     2013-07-19   32.400002   32.669998   31.020000   31.400000   26.166113   \n",
       "1     2013-07-22   31.700001   32.009998   31.600000   32.009998   26.674431   \n",
       "2     2013-07-23   31.910000   32.040001   31.709999   31.820000   26.516104   \n",
       "3     2013-07-24   32.040001   32.189999   31.889999   31.959999   26.632767   \n",
       "4     2013-07-25   31.620001   31.650000   31.250000   31.389999   26.157772   \n",
       "...          ...         ...         ...         ...         ...         ...   \n",
       "2512  2023-07-13  339.559998  343.739990  339.019989  342.660004  342.660004   \n",
       "2513  2023-07-14  347.589996  351.429993  344.309998  345.239990  345.239990   \n",
       "2514  2023-07-17  345.679993  346.989990  342.200012  345.730011  345.730011   \n",
       "2515  2023-07-18  345.829987  366.779999  342.170013  359.489990  359.489990   \n",
       "2516  2023-07-19  361.750000  362.459991  352.440002  355.079987  355.079987   \n",
       "\n",
       "         Volume  \n",
       "0     248428500  \n",
       "1      79040700  \n",
       "2      65810400  \n",
       "3      52803100  \n",
       "4      63213000  \n",
       "...         ...  \n",
       "2512   20567200  \n",
       "2513   28302200  \n",
       "2514   20363900  \n",
       "2515   64872700  \n",
       "2516   39640400  \n",
       "\n",
       "[2517 rows x 7 columns]"
      ]
     },
     "execution_count": 2,
     "metadata": {},
     "output_type": "execute_result"
    }
   ],
   "source": [
    "df = pd.read_csv('C:/Users/sugosh/Downloads/MSFT.csv')\n",
    "\n",
    "df"
   ]
  },
  {
   "cell_type": "code",
   "execution_count": 3,
   "id": "cefba578",
   "metadata": {},
   "outputs": [
    {
     "data": {
      "text/html": [
       "<div>\n",
       "<style scoped>\n",
       "    .dataframe tbody tr th:only-of-type {\n",
       "        vertical-align: middle;\n",
       "    }\n",
       "\n",
       "    .dataframe tbody tr th {\n",
       "        vertical-align: top;\n",
       "    }\n",
       "\n",
       "    .dataframe thead th {\n",
       "        text-align: right;\n",
       "    }\n",
       "</style>\n",
       "<table border=\"1\" class=\"dataframe\">\n",
       "  <thead>\n",
       "    <tr style=\"text-align: right;\">\n",
       "      <th></th>\n",
       "      <th>Open</th>\n",
       "      <th>High</th>\n",
       "      <th>Low</th>\n",
       "      <th>Close</th>\n",
       "      <th>Volume</th>\n",
       "    </tr>\n",
       "  </thead>\n",
       "  <tbody>\n",
       "    <tr>\n",
       "      <th>0</th>\n",
       "      <td>32.400002</td>\n",
       "      <td>32.669998</td>\n",
       "      <td>31.020000</td>\n",
       "      <td>31.400000</td>\n",
       "      <td>248428500</td>\n",
       "    </tr>\n",
       "    <tr>\n",
       "      <th>1</th>\n",
       "      <td>31.700001</td>\n",
       "      <td>32.009998</td>\n",
       "      <td>31.600000</td>\n",
       "      <td>32.009998</td>\n",
       "      <td>79040700</td>\n",
       "    </tr>\n",
       "    <tr>\n",
       "      <th>2</th>\n",
       "      <td>31.910000</td>\n",
       "      <td>32.040001</td>\n",
       "      <td>31.709999</td>\n",
       "      <td>31.820000</td>\n",
       "      <td>65810400</td>\n",
       "    </tr>\n",
       "    <tr>\n",
       "      <th>3</th>\n",
       "      <td>32.040001</td>\n",
       "      <td>32.189999</td>\n",
       "      <td>31.889999</td>\n",
       "      <td>31.959999</td>\n",
       "      <td>52803100</td>\n",
       "    </tr>\n",
       "    <tr>\n",
       "      <th>4</th>\n",
       "      <td>31.620001</td>\n",
       "      <td>31.650000</td>\n",
       "      <td>31.250000</td>\n",
       "      <td>31.389999</td>\n",
       "      <td>63213000</td>\n",
       "    </tr>\n",
       "  </tbody>\n",
       "</table>\n",
       "</div>"
      ],
      "text/plain": [
       "        Open       High        Low      Close     Volume\n",
       "0  32.400002  32.669998  31.020000  31.400000  248428500\n",
       "1  31.700001  32.009998  31.600000  32.009998   79040700\n",
       "2  31.910000  32.040001  31.709999  31.820000   65810400\n",
       "3  32.040001  32.189999  31.889999  31.959999   52803100\n",
       "4  31.620001  31.650000  31.250000  31.389999   63213000"
      ]
     },
     "execution_count": 3,
     "metadata": {},
     "output_type": "execute_result"
    }
   ],
   "source": [
    "df=df.drop(['Date','Adj Close'],axis=1)\n",
    "df.head()"
   ]
  },
  {
   "cell_type": "code",
   "execution_count": 4,
   "id": "60764a74",
   "metadata": {},
   "outputs": [
    {
     "data": {
      "text/plain": [
       "[<matplotlib.lines.Line2D at 0x19a8748eb80>]"
      ]
     },
     "execution_count": 4,
     "metadata": {},
     "output_type": "execute_result"
    },
    {
     "data": {
      "image/png": "[encoded data removed]",
      "text/plain": [
       "<Figure size 640x480 with 1 Axes>"
      ]
     },
     "metadata": {},
     "output_type": "display_data"
    }
   ],
   "source": [
    "import matplotlib.pyplot as plt\n",
    "\n",
    "plt.plot(df.Close)  ## Graph to show the closing price of Microsoft Stocks"
   ]
  },
  {
   "cell_type": "code",
   "execution_count": 5,
   "id": "f843bc52",
   "metadata": {},
   "outputs": [
    {
     "data": {
      "text/plain": [
       "0            NaN\n",
       "1            NaN\n",
       "2            NaN\n",
       "3            NaN\n",
       "4            NaN\n",
       "          ...   \n",
       "2512    300.3098\n",
       "2513    301.1816\n",
       "2514    302.1122\n",
       "2515    303.1920\n",
       "2516    304.1951\n",
       "Name: Close, Length: 2517, dtype: float64"
      ]
     },
     "execution_count": 5,
     "metadata": {},
     "output_type": "execute_result"
    }
   ],
   "source": [
    "## Find the mean of the closing values of the previous 100 days - MOVING AVERAGE \n",
    "\n",
    "ma100=df.Close.rolling(100).mean() ## moving average is calculated by the rolling function\n",
    "ma100"
   ]
  },
  {
   "cell_type": "code",
   "execution_count": 6,
   "id": "c1ddca34",
   "metadata": {},
   "outputs": [
    {
     "data": {
      "text/plain": [
       "[<matplotlib.lines.Line2D at 0x19a87d7c310>]"
      ]
     },
     "execution_count": 6,
     "metadata": {},
     "output_type": "execute_result"
    },
    {
     "data": {
      "image/png": "[encoded data removed]",
      "text/plain": [
       "<Figure size 1200x600 with 1 Axes>"
      ]
     },
     "metadata": {},
     "output_type": "display_data"
    }
   ],
   "source": [
    "## Plot the graph for moving average for 100 days against original closing values\n",
    "\n",
    "plt.figure(figsize=(12,6))\n",
    "plt.plot(df.Close)\n",
    "plt.plot(ma100,'g')"
   ]
  },
  {
   "cell_type": "code",
   "execution_count": 7,
   "id": "8bb35583",
   "metadata": {},
   "outputs": [
    {
     "data": {
      "text/plain": [
       "0             NaN\n",
       "1             NaN\n",
       "2             NaN\n",
       "3             NaN\n",
       "4             NaN\n",
       "          ...    \n",
       "2512    271.24730\n",
       "2513    271.78625\n",
       "2514    272.33285\n",
       "2515    272.92495\n",
       "2516    273.51285\n",
       "Name: Close, Length: 2517, dtype: float64"
      ]
     },
     "execution_count": 7,
     "metadata": {},
     "output_type": "execute_result"
    }
   ],
   "source": [
    "## Find the mean of the closing values of the previous 200 days - MOVING AVERAGE \n",
    "\n",
    "ma200=df.Close.rolling(200).mean() ## moving average is calculated by the rolling function\n",
    "ma200"
   ]
  },
  {
   "cell_type": "code",
   "execution_count": 8,
   "id": "2fbeba0c",
   "metadata": {},
   "outputs": [
    {
     "data": {
      "text/plain": [
       "[<matplotlib.lines.Line2D at 0x19a87bf0850>]"
      ]
     },
     "execution_count": 8,
     "metadata": {},
     "output_type": "execute_result"
    },
    {
     "data": {
      "image/png": "[encoded data removed]",
      "text/plain": [
       "<Figure size 1200x600 with 1 Axes>"
      ]
     },
     "metadata": {},
     "output_type": "display_data"
    }
   ],
   "source": [
    "## Plot the graph for moving average for 100 days vs 200 days vs original closing values\n",
    "\n",
    "plt.figure(figsize=(12,6))\n",
    "plt.plot(df.Close)\n",
    "plt.plot(ma100,'g')\n",
    "plt.plot(ma200,'r')"
   ]
  },
  {
   "cell_type": "code",
   "execution_count": 9,
   "id": "43ce59fe",
   "metadata": {},
   "outputs": [
    {
     "data": {
      "text/plain": [
       "(2517, 5)"
      ]
     },
     "execution_count": 9,
     "metadata": {},
     "output_type": "execute_result"
    }
   ],
   "source": [
    "df.shape"
   ]
  },
  {
   "cell_type": "code",
   "execution_count": 10,
   "id": "5acba2eb",
   "metadata": {},
   "outputs": [
    {
     "name": "stdout",
     "output_type": "stream",
     "text": [
      "(1761, 1)\n",
      "(756, 1)\n"
     ]
    }
   ],
   "source": [
    "# Splitting Data into 70% Train and 30% Test Set\n",
    "\n",
    "train=pd.DataFrame(df['Close'][0:int(len(df)*0.70)])\n",
    "test=pd.DataFrame(df['Close'][int(len(df)*0.70):int(len(df))])\n",
    "\n",
    "print(train.shape)\n",
    "print(test.shape)"
   ]
  },
  {
   "cell_type": "code",
   "execution_count": 11,
   "id": "5e3fe502",
   "metadata": {},
   "outputs": [],
   "source": [
    "## Scaling down the data to 0 and 1 to be useable in an LSTM Model\n",
    "\n",
    "from sklearn.preprocessing import MinMaxScaler\n",
    "scaler=MinMaxScaler(feature_range=(0,1))"
   ]
  },
  {
   "cell_type": "code",
   "execution_count": 12,
   "id": "043d019c",
   "metadata": {},
   "outputs": [
    {
     "data": {
      "text/plain": [
       "array([[0.00136485],\n",
       "       [0.00469508],\n",
       "       [0.0036578 ],\n",
       "       ...,\n",
       "       [0.96740732],\n",
       "       [0.96571483],\n",
       "       [0.9432221 ]])"
      ]
     },
     "execution_count": 12,
     "metadata": {},
     "output_type": "execute_result"
    }
   ],
   "source": [
    "## Convert Training Data into Array\n",
    "\n",
    "train_arr=scaler.fit_transform(train)\n",
    "train_arr"
   ]
  },
  {
   "cell_type": "code",
   "execution_count": 13,
   "id": "619ef9e0",
   "metadata": {},
   "outputs": [
    {
     "data": {
      "text/plain": [
       "(1761, 1)"
      ]
     },
     "execution_count": 13,
     "metadata": {},
     "output_type": "execute_result"
    }
   ],
   "source": [
    "train_arr.shape"
   ]
  },
  {
   "cell_type": "code",
   "execution_count": 14,
   "id": "437a22c9",
   "metadata": {},
   "outputs": [],
   "source": [
    "x_train=[] ## List to save the trained values\n",
    "y_train=[] ## List to save the predicted values\n",
    "\n",
    "for i in range(100,train_arr.shape[0]):  ## Train the data on the first 100 values\n",
    "    x_train.append(train_arr[i-100:i])\n",
    "    y_train.append(train_arr[i,0])\n",
    "    \n",
    "x_train , y_train = np.array(x_train),np.array(y_train) ## Convert to numpy array to make it fit for model"
   ]
  },
  {
   "cell_type": "markdown",
   "id": "67046ca2",
   "metadata": {},
   "source": [
    "# MODEL BUILDING"
   ]
  },
  {
   "cell_type": "code",
   "execution_count": 15,
   "id": "e8320c33",
   "metadata": {},
   "outputs": [],
   "source": [
    "import tensorflow as tf\n",
    "from keras.layers import Dense , Dropout , LSTM"
   ]
  },
  {
   "cell_type": "code",
   "execution_count": 16,
   "id": "2e27c470",
   "metadata": {},
   "outputs": [],
   "source": [
    "from keras.models import Sequential"
   ]
  },
  {
   "cell_type": "markdown",
   "id": "37cff167",
   "metadata": {},
   "source": [
    "## Creating a Sequential Model"
   ]
  },
  {
   "cell_type": "code",
   "execution_count": 17,
   "id": "a251d95d",
   "metadata": {},
   "outputs": [],
   "source": [
    "## Creating a Sequential Model\n",
    "\n",
    "model = Sequential()"
   ]
  },
  {
   "cell_type": "code",
   "execution_count": 18,
   "id": "f955395b",
   "metadata": {},
   "outputs": [],
   "source": [
    "## Layer 1\n",
    "\n",
    "model.add(LSTM(units=50, activation='relu',return_sequences=True,input_shape=(x_train.shape[1],1)))\n",
    "model.add(Dropout(0.2))\n",
    "\n",
    "## Layer 2\n",
    "\n",
    "model.add(LSTM(units=60, activation='relu',return_sequences=True))\n",
    "model.add(Dropout(0.3))\n",
    "\n",
    "## Layer 3\n",
    "\n",
    "model.add(LSTM(units=80, activation='relu',return_sequences=True))\n",
    "model.add(Dropout(0.4))\n",
    "\n",
    "## Layer 4\n",
    "\n",
    "model.add(LSTM(units=120, activation='relu'))\n",
    "model.add(Dropout(0.5))\n",
    "\n",
    "model.add(Dense(units=1)) ## Dense Layer is used to connect all other layers\n",
    "                          ## Unit is 1 as we predict only the closing stock values"
   ]
  },
  {
   "cell_type": "code",
   "execution_count": 19,
   "id": "7ba15ce8",
   "metadata": {},
   "outputs": [
    {
     "name": "stdout",
     "output_type": "stream",
     "text": [
      "Model: \"sequential\"\n",
      "_________________________________________________________________\n",
      "Layer (type)                 Output Shape              Param #   \n",
      "=================================================================\n",
      "lstm (LSTM)                  (None, 100, 50)           10400     \n",
      "_________________________________________________________________\n",
      "dropout (Dropout)            (None, 100, 50)           0         \n",
      "_________________________________________________________________\n",
      "lstm_1 (LSTM)                (None, 100, 60)           26640     \n",
      "_________________________________________________________________\n",
      "dropout_1 (Dropout)          (None, 100, 60)           0         \n",
      "_________________________________________________________________\n",
      "lstm_2 (LSTM)                (None, 100, 80)           45120     \n",
      "_________________________________________________________________\n",
      "dropout_2 (Dropout)          (None, 100, 80)           0         \n",
      "_________________________________________________________________\n",
      "lstm_3 (LSTM)                (None, 120)               96480     \n",
      "_________________________________________________________________\n",
      "dropout_3 (Dropout)          (None, 120)               0         \n",
      "_________________________________________________________________\n",
      "dense (Dense)                (None, 1)                 121       \n",
      "=================================================================\n",
      "Total params: 178,761\n",
      "Trainable params: 178,761\n",
      "Non-trainable params: 0\n",
      "_________________________________________________________________\n"
     ]
    }
   ],
   "source": [
    "model.summary()"
   ]
  },
  {
   "cell_type": "code",
   "execution_count": 20,
   "id": "15db1368",
   "metadata": {},
   "outputs": [
    {
     "name": "stdout",
     "output_type": "stream",
     "text": [
      "Epoch 1/50\n",
      "52/52 [==============================] - 9s 170ms/step - loss: 0.0235\n",
      "Epoch 2/50\n",
      "52/52 [==============================] - 9s 168ms/step - loss: 0.0055\n",
      "Epoch 3/50\n",
      "52/52 [==============================] - 9s 171ms/step - loss: 0.0047\n",
      "Epoch 4/50\n",
      "52/52 [==============================] - 9s 173ms/step - loss: 0.0039\n",
      "Epoch 5/50\n",
      "52/52 [==============================] - 9s 175ms/step - loss: 0.0041\n",
      "Epoch 6/50\n",
      "52/52 [==============================] - 9s 176ms/step - loss: 0.0035\n",
      "Epoch 7/50\n",
      "52/52 [==============================] - 9s 177ms/step - loss: 0.0049\n",
      "Epoch 8/50\n",
      "52/52 [==============================] - 9s 180ms/step - loss: 0.0031\n",
      "Epoch 9/50\n",
      "52/52 [==============================] - 9s 179ms/step - loss: 0.0037\n",
      "Epoch 10/50\n",
      "52/52 [==============================] - 9s 180ms/step - loss: 0.0030\n",
      "Epoch 11/50\n",
      "52/52 [==============================] - 9s 180ms/step - loss: 0.0032 0s - loss: 0.\n",
      "Epoch 12/50\n",
      "52/52 [==============================] - 9s 181ms/step - loss: 0.0033 1s - \n",
      "Epoch 13/50\n",
      "52/52 [==============================] - 9s 182ms/step - loss: 0.0027\n",
      "Epoch 14/50\n",
      "52/52 [==============================] - 9s 182ms/step - loss: 0.0031\n",
      "Epoch 15/50\n",
      "52/52 [==============================] - 10s 183ms/step - loss: 0.0024\n",
      "Epoch 16/50\n",
      "52/52 [==============================] - 10s 185ms/step - loss: 0.00300s - loss: \n",
      "Epoch 17/50\n",
      "52/52 [==============================] - 10s 185ms/step - loss: 0.0027\n",
      "Epoch 18/50\n",
      "52/52 [==============================] - 11s 210ms/step - loss: 0.0024\n",
      "Epoch 19/50\n",
      "52/52 [==============================] - 11s 211ms/step - loss: 0.0028\n",
      "Epoch 20/50\n",
      "52/52 [==============================] - 11s 202ms/step - loss: 0.0026\n",
      "Epoch 21/50\n",
      "52/52 [==============================] - 11s 208ms/step - loss: 0.0025\n",
      "Epoch 22/50\n",
      "52/52 [==============================] - 11s 220ms/step - loss: 0.0023\n",
      "Epoch 23/50\n",
      "52/52 [==============================] - 11s 206ms/step - loss: 0.0026\n",
      "Epoch 24/50\n",
      "52/52 [==============================] - 11s 216ms/step - loss: 0.0022\n",
      "Epoch 25/50\n",
      "52/52 [==============================] - 12s 232ms/step - loss: 0.0023\n",
      "Epoch 26/50\n",
      "52/52 [==============================] - 12s 233ms/step - loss: 0.0021\n",
      "Epoch 27/50\n",
      "52/52 [==============================] - 12s 225ms/step - loss: 0.0021\n",
      "Epoch 28/50\n",
      "52/52 [==============================] - 13s 242ms/step - loss: 0.0023\n",
      "Epoch 29/50\n",
      "52/52 [==============================] - 13s 247ms/step - loss: 0.0021\n",
      "Epoch 30/50\n",
      "52/52 [==============================] - 11s 208ms/step - loss: 0.0020\n",
      "Epoch 31/50\n",
      "52/52 [==============================] - 10s 194ms/step - loss: 0.0018\n",
      "Epoch 32/50\n",
      "52/52 [==============================] - 10s 200ms/step - loss: 0.0021\n",
      "Epoch 33/50\n",
      "52/52 [==============================] - 11s 207ms/step - loss: 0.0023\n",
      "Epoch 34/50\n",
      "52/52 [==============================] - 11s 215ms/step - loss: 0.0023\n",
      "Epoch 35/50\n",
      "52/52 [==============================] - 11s 209ms/step - loss: 0.0021\n",
      "Epoch 36/50\n",
      "52/52 [==============================] - 10s 192ms/step - loss: 0.0024\n",
      "Epoch 37/50\n",
      "52/52 [==============================] - 10s 199ms/step - loss: 0.0020\n",
      "Epoch 38/50\n",
      "52/52 [==============================] - 10s 202ms/step - loss: 0.0017\n",
      "Epoch 39/50\n",
      "52/52 [==============================] - 10s 192ms/step - loss: 0.0018\n",
      "Epoch 40/50\n",
      "52/52 [==============================] - 10s 195ms/step - loss: 0.0014\n",
      "Epoch 41/50\n",
      "52/52 [==============================] - 11s 208ms/step - loss: 0.0020\n",
      "Epoch 42/50\n",
      "52/52 [==============================] - 11s 203ms/step - loss: 0.0019\n",
      "Epoch 43/50\n",
      "52/52 [==============================] - 10s 192ms/step - loss: 0.0016\n",
      "Epoch 44/50\n",
      "52/52 [==============================] - 10s 193ms/step - loss: 0.0018\n",
      "Epoch 45/50\n",
      "52/52 [==============================] - 10s 194ms/step - loss: 0.00170s - loss: 0.00\n",
      "Epoch 46/50\n",
      "52/52 [==============================] - 10s 190ms/step - loss: 0.0017\n",
      "Epoch 47/50\n",
      "52/52 [==============================] - 10s 189ms/step - loss: 0.0016\n",
      "Epoch 48/50\n",
      "52/52 [==============================] - 10s 189ms/step - loss: 0.0018\n",
      "Epoch 49/50\n",
      "52/52 [==============================] - 10s 189ms/step - loss: 0.0018\n",
      "Epoch 50/50\n",
      "52/52 [==============================] - 10s 190ms/step - loss: 0.0017\n"
     ]
    },
    {
     "data": {
      "text/plain": [
       "<tensorflow.python.keras.callbacks.History at 0x19a9134aaf0>"
      ]
     },
     "execution_count": 20,
     "metadata": {},
     "output_type": "execute_result"
    }
   ],
   "source": [
    "model.compile(optimizer=\"adam\",loss=\"mean_squared_error\")\n",
    "model.fit(x_train,y_train,epochs=50)"
   ]
  },
  {
   "cell_type": "code",
   "execution_count": 21,
   "id": "4d14069a",
   "metadata": {},
   "outputs": [],
   "source": [
    "model.save('stock_predictor_model.h5')"
   ]
  },
  {
   "cell_type": "markdown",
   "id": "997ea77d",
   "metadata": {},
   "source": [
    "# PREDICT VALUES FOR TEST DATASET"
   ]
  },
  {
   "cell_type": "code",
   "execution_count": 23,
   "id": "0312fb06",
   "metadata": {},
   "outputs": [
    {
     "data": {
      "text/html": [
       "<div>\n",
       "<style scoped>\n",
       "    .dataframe tbody tr th:only-of-type {\n",
       "        vertical-align: middle;\n",
       "    }\n",
       "\n",
       "    .dataframe tbody tr th {\n",
       "        vertical-align: top;\n",
       "    }\n",
       "\n",
       "    .dataframe thead th {\n",
       "        text-align: right;\n",
       "    }\n",
       "</style>\n",
       "<table border=\"1\" class=\"dataframe\">\n",
       "  <thead>\n",
       "    <tr style=\"text-align: right;\">\n",
       "      <th></th>\n",
       "      <th>Close</th>\n",
       "    </tr>\n",
       "  </thead>\n",
       "  <tbody>\n",
       "    <tr>\n",
       "      <th>1661</th>\n",
       "      <td>168.070007</td>\n",
       "    </tr>\n",
       "    <tr>\n",
       "      <th>1662</th>\n",
       "      <td>170.169998</td>\n",
       "    </tr>\n",
       "    <tr>\n",
       "      <th>1663</th>\n",
       "      <td>158.179993</td>\n",
       "    </tr>\n",
       "    <tr>\n",
       "      <th>1664</th>\n",
       "      <td>162.009995</td>\n",
       "    </tr>\n",
       "    <tr>\n",
       "      <th>1665</th>\n",
       "      <td>172.789993</td>\n",
       "    </tr>\n",
       "    <tr>\n",
       "      <th>...</th>\n",
       "      <td>...</td>\n",
       "    </tr>\n",
       "    <tr>\n",
       "      <th>1756</th>\n",
       "      <td>213.669998</td>\n",
       "    </tr>\n",
       "    <tr>\n",
       "      <th>1757</th>\n",
       "      <td>207.070007</td>\n",
       "    </tr>\n",
       "    <tr>\n",
       "      <th>1758</th>\n",
       "      <td>208.350006</td>\n",
       "    </tr>\n",
       "    <tr>\n",
       "      <th>1759</th>\n",
       "      <td>208.039993</td>\n",
       "    </tr>\n",
       "    <tr>\n",
       "      <th>1760</th>\n",
       "      <td>203.919998</td>\n",
       "    </tr>\n",
       "  </tbody>\n",
       "</table>\n",
       "<p>100 rows × 1 columns</p>\n",
       "</div>"
      ],
      "text/plain": [
       "           Close\n",
       "1661  168.070007\n",
       "1662  170.169998\n",
       "1663  158.179993\n",
       "1664  162.009995\n",
       "1665  172.789993\n",
       "...          ...\n",
       "1756  213.669998\n",
       "1757  207.070007\n",
       "1758  208.350006\n",
       "1759  208.039993\n",
       "1760  203.919998\n",
       "\n",
       "[100 rows x 1 columns]"
      ]
     },
     "execution_count": 23,
     "metadata": {},
     "output_type": "execute_result"
    }
   ],
   "source": [
    "train.tail(100)"
   ]
  },
  {
   "cell_type": "code",
   "execution_count": null,
   "id": "70fb3297",
   "metadata": {},
   "outputs": [],
   "source": []
  },
  {
   "cell_type": "code",
   "execution_count": 22,
   "id": "49a9ceb8",
   "metadata": {},
   "outputs": [],
   "source": [
    "## Extract last 100 days (rows) from training dataset\n",
    "## store it in a variable to predict the value of the next day as test dataset - TIME SERIES ANALYSIS\n",
    "\n",
    "past_100_days = train.tail(100)"
   ]
  },
  {
   "cell_type": "code",
   "execution_count": null,
   "id": "4924ab43",
   "metadata": {},
   "outputs": [],
   "source": [
    "final_df = past_100_days.append(test,ignore_index=True) ## Connect Last 100 days training data with the test data"
   ]
  }
 ],
 "metadata": {
  "kernelspec": {
   "display_name": "Python 3 (ipykernel)",
   "language": "python",
   "name": "python3"
  },
  "language_info": {
   "codemirror_mode": {
    "name": "ipython",
    "version": 3
   },
   "file_extension": ".py",
   "mimetype": "text/x-python",
   "name": "python",
   "nbconvert_exporter": "python",
   "pygments_lexer": "ipython3",
   "version": "3.8.17"
  }
 },
 "nbformat": 4,
 "nbformat_minor": 5
}
